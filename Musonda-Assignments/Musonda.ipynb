{
 "cells": [
  {
   "cell_type": "code",
   "execution_count": null,
   "id": "6b4431ce-f847-4bb0-9be9-409ad70ed9f5",
   "metadata": {},
   "outputs": [],
   "source": [
    "# Create a dictionary just like we have done for the list, tuple, and set. How do we index into a dictionary? \n",
    "# How is a dictionary unique"
   ]
  },
  {
   "cell_type": "code",
   "execution_count": 4,
   "id": "337fc765-be61-426f-a53d-c9210c4032c6",
   "metadata": {},
   "outputs": [
    {
     "name": "stdout",
     "output_type": "stream",
     "text": [
      "Yellow\n",
      "Orange\n"
     ]
    }
   ],
   "source": [
    "#creating a dictionary for the colors of the \"houses\" of a primary school on sports day\n",
    "house_colors = {\"Kafue\":\"Red\", \"Luangwa\":\"Blue\", \"Zambezi\":\"Yellow\", \"Luapula\":\"Orange\"}\n",
    "\n",
    "# dictionary is unique because it associates two data items with eachother, a key is tied to a specific value\n",
    "\n",
    "#indexing\n",
    "house_colors = {\"Kafue\":\"Red\", \"Luangwa\":\"Blue\", \"Zambezi\":\"Yellow\", \"Luapula\":\"Orange\"}\n",
    "print(house_colors[\"Zambezi\"])\n",
    "print(house_colors[\"Luapula\"])      \n",
    "\n"
   ]
  },
  {
   "cell_type": "code",
   "execution_count": 9,
   "id": "0812ac77-c10c-4610-99fa-70e5eb444e5b",
   "metadata": {},
   "outputs": [
    {
     "name": "stdout",
     "output_type": "stream",
     "text": [
      "fruits:  ['Mango', 'Pineapple', 'Jute', 'Cherry']\n",
      "fruits2:  ['guava', 'orange', 'lemon', 'strawberry', 'apple']\n",
      "\n",
      "New value of fruits:  ['guava', 'orange', 'lemon', 'strawberry']\n"
     ]
    }
   ],
   "source": [
    "# demonstrating re-assigning all values of a list at once using a loop\n",
    "fruits = [\"Mango\", \"Pineapple\", \"Jute\", \"Cherry\"]\n",
    "fruits2 = [\"guava\", \"orange\", \"lemon\", \"strawberry\", \"apple\"]\n",
    "\n",
    "#print initial values of fruits and fruits2\n",
    "print(\"fruits: \", fruits)\n",
    "print(\"fruits2: \", fruits2)\n",
    "\n",
    "\n",
    "i=0\n",
    "for i in range(len(fruits)):\n",
    "    fruits[i] = fruits2[i]\n",
    "    i=i+1\n",
    "\n",
    "#print new values of fruits\n",
    "print(\"\\nNew value of fruits: \", fruits)\n",
    "   "
   ]
  },
  {
   "cell_type": "code",
   "execution_count": null,
   "id": "484ba2d9-c027-472c-932b-df16a62e70c5",
   "metadata": {},
   "outputs": [],
   "source": []
  }
 ],
 "metadata": {
  "kernelspec": {
   "display_name": "Python 3 (ipykernel)",
   "language": "python",
   "name": "python3"
  },
  "language_info": {
   "codemirror_mode": {
    "name": "ipython",
    "version": 3
   },
   "file_extension": ".py",
   "mimetype": "text/x-python",
   "name": "python",
   "nbconvert_exporter": "python",
   "pygments_lexer": "ipython3",
   "version": "3.13.3"
  }
 },
 "nbformat": 4,
 "nbformat_minor": 5
}
