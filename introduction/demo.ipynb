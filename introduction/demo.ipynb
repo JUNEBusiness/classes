{
 "cells": [
  {
   "cell_type": "code",
   "execution_count": 1,
   "id": "0cda6386-f5c5-498f-bd20-be2669f94493",
   "metadata": {},
   "outputs": [
    {
     "data": {
      "text/plain": [
       "'hello'"
      ]
     },
     "execution_count": 1,
     "metadata": {},
     "output_type": "execute_result"
    }
   ],
   "source": [
    "\"hello\""
   ]
  },
  {
   "cell_type": "code",
   "execution_count": 2,
   "id": "fc3ea659-b4fc-4c6e-bb17-2e17b70d7fd4",
   "metadata": {},
   "outputs": [
    {
     "name": "stdout",
     "output_type": "stream",
     "text": [
      "hello\n"
     ]
    }
   ],
   "source": [
    "print(\"hello\")"
   ]
  },
  {
   "cell_type": "code",
   "execution_count": 6,
   "id": "ca07d697-3bd7-4223-bf3c-47293231378e",
   "metadata": {},
   "outputs": [
    {
     "data": {
      "text/plain": [
       "float"
      ]
     },
     "execution_count": 6,
     "metadata": {},
     "output_type": "execute_result"
    }
   ],
   "source": [
    "type(2.2)"
   ]
  },
  {
   "cell_type": "code",
   "execution_count": 7,
   "id": "b0ae77c0-d8b7-41de-ba1a-01c3f20f9541",
   "metadata": {},
   "outputs": [
    {
     "data": {
      "text/plain": [
       "bool"
      ]
     },
     "execution_count": 7,
     "metadata": {},
     "output_type": "execute_result"
    }
   ],
   "source": [
    "type(True)"
   ]
  },
  {
   "cell_type": "code",
   "execution_count": 8,
   "id": "b1e6d043-9627-4a78-afd3-56bd3bd1123f",
   "metadata": {},
   "outputs": [
    {
     "data": {
      "text/plain": [
       "float"
      ]
     },
     "execution_count": 8,
     "metadata": {},
     "output_type": "execute_result"
    }
   ],
   "source": [
    "num = 2.2\n",
    "type(num)"
   ]
  },
  {
   "cell_type": "code",
   "execution_count": 9,
   "id": "02883897-0979-48a1-882c-86172db1fb82",
   "metadata": {},
   "outputs": [],
   "source": [
    "num = int(num)"
   ]
  },
  {
   "cell_type": "code",
   "execution_count": 11,
   "id": "d2645ea0-91e1-4970-acb4-ce43cbc0687b",
   "metadata": {},
   "outputs": [
    {
     "name": "stdout",
     "output_type": "stream",
     "text": [
      "2\n"
     ]
    },
    {
     "data": {
      "text/plain": [
       "int"
      ]
     },
     "execution_count": 11,
     "metadata": {},
     "output_type": "execute_result"
    }
   ],
   "source": [
    "print(num)\n",
    "type(num)"
   ]
  },
  {
   "cell_type": "code",
   "execution_count": 12,
   "id": "deed030c-1c2f-4215-a54a-29601a8acb3d",
   "metadata": {},
   "outputs": [],
   "source": [
    "num = str(num)"
   ]
  },
  {
   "cell_type": "code",
   "execution_count": 14,
   "id": "10162d21-afac-487f-bcf9-eceb9ff94fe4",
   "metadata": {},
   "outputs": [
    {
     "name": "stdout",
     "output_type": "stream",
     "text": [
      "2\n"
     ]
    },
    {
     "data": {
      "text/plain": [
       "str"
      ]
     },
     "execution_count": 14,
     "metadata": {},
     "output_type": "execute_result"
    }
   ],
   "source": [
    "print(num)\n",
    "type(num)"
   ]
  },
  {
   "cell_type": "code",
   "execution_count": 15,
   "id": "1ccbaf93-155d-40bb-96d0-048e1b011a22",
   "metadata": {},
   "outputs": [
    {
     "data": {
      "text/plain": [
       "16"
      ]
     },
     "execution_count": 15,
     "metadata": {},
     "output_type": "execute_result"
    }
   ],
   "source": [
    "2 * 8"
   ]
  },
  {
   "cell_type": "code",
   "execution_count": 16,
   "id": "4f47ba85-29ce-4478-8d85-79c207c6f74b",
   "metadata": {},
   "outputs": [
    {
     "data": {
      "text/plain": [
       "4"
      ]
     },
     "execution_count": 16,
     "metadata": {},
     "output_type": "execute_result"
    }
   ],
   "source": [
    "2**2"
   ]
  },
  {
   "cell_type": "code",
   "execution_count": 18,
   "id": "c4ae1edd-57a7-4d3a-8a9d-14b6d7ac52e7",
   "metadata": {},
   "outputs": [
    {
     "data": {
      "text/plain": [
       "1.0"
      ]
     },
     "execution_count": 18,
     "metadata": {},
     "output_type": "execute_result"
    }
   ],
   "source": [
    "2/2"
   ]
  },
  {
   "cell_type": "code",
   "execution_count": 19,
   "id": "024963c9-f48d-4525-9174-e0ae37dc3234",
   "metadata": {},
   "outputs": [
    {
     "data": {
      "text/plain": [
       "-2"
      ]
     },
     "execution_count": 19,
     "metadata": {},
     "output_type": "execute_result"
    }
   ],
   "source": [
    "8 - 10"
   ]
  },
  {
   "cell_type": "code",
   "execution_count": 20,
   "id": "4d044927-7f14-4c2a-af53-4b5db3a60d3a",
   "metadata": {},
   "outputs": [
    {
     "data": {
      "text/plain": [
       "False"
      ]
     },
     "execution_count": 20,
     "metadata": {},
     "output_type": "execute_result"
    }
   ],
   "source": [
    "2 > 3"
   ]
  },
  {
   "cell_type": "code",
   "execution_count": 21,
   "id": "b2b2c125-5a65-427b-981a-d5a88d3cbef5",
   "metadata": {},
   "outputs": [
    {
     "data": {
      "text/plain": [
       "True"
      ]
     },
     "execution_count": 21,
     "metadata": {},
     "output_type": "execute_result"
    }
   ],
   "source": [
    "8>5"
   ]
  },
  {
   "cell_type": "code",
   "execution_count": 24,
   "id": "c794d993-ebe5-4360-996b-c7a005ca28fe",
   "metadata": {},
   "outputs": [
    {
     "data": {
      "text/plain": [
       "False"
      ]
     },
     "execution_count": 24,
     "metadata": {},
     "output_type": "execute_result"
    }
   ],
   "source": [
    "10 == 8"
   ]
  },
  {
   "cell_type": "code",
   "execution_count": 25,
   "id": "c82603a4-5d8b-422a-b614-cf980be78f31",
   "metadata": {},
   "outputs": [
    {
     "data": {
      "text/plain": [
       "False"
      ]
     },
     "execution_count": 25,
     "metadata": {},
     "output_type": "execute_result"
    }
   ],
   "source": [
    "2 > 2 and 5 > 7"
   ]
  },
  {
   "cell_type": "code",
   "execution_count": 26,
   "id": "ba35a5c3-92a8-41ff-af2d-bb54bcce0105",
   "metadata": {},
   "outputs": [
    {
     "data": {
      "text/plain": [
       "True"
      ]
     },
     "execution_count": 26,
     "metadata": {},
     "output_type": "execute_result"
    }
   ],
   "source": [
    "2 > 2 or 2 <= 6"
   ]
  },
  {
   "cell_type": "code",
   "execution_count": 27,
   "id": "0e857d70-77df-47b7-a69a-d4b92bf8a686",
   "metadata": {},
   "outputs": [
    {
     "data": {
      "text/plain": [
       "True"
      ]
     },
     "execution_count": 27,
     "metadata": {},
     "output_type": "execute_result"
    }
   ],
   "source": [
    "2 <= 6"
   ]
  },
  {
   "cell_type": "code",
   "execution_count": 31,
   "id": "a3f8faf1-2f3e-4a8e-a323-83a467c65aa3",
   "metadata": {},
   "outputs": [
    {
     "data": {
      "text/plain": [
       "False"
      ]
     },
     "execution_count": 31,
     "metadata": {},
     "output_type": "execute_result"
    }
   ],
   "source": [
    "2 == 2 and 54 > 900"
   ]
  },
  {
   "cell_type": "code",
   "execution_count": 34,
   "id": "f40dcf98-04ec-49e2-9e70-571aa9763fdc",
   "metadata": {},
   "outputs": [
    {
     "name": "stdout",
     "output_type": "stream",
     "text": [
      "equal\n"
     ]
    }
   ],
   "source": [
    "# If statements\n",
    "if 2 == 2:\n",
    "    print(\"equal\")"
   ]
  },
  {
   "cell_type": "code",
   "execution_count": 36,
   "id": "ad3a32cc-755b-443e-9cd6-63595d917566",
   "metadata": {},
   "outputs": [],
   "source": [
    "if 2 == 5:\n",
    "    print(\"equal\")"
   ]
  },
  {
   "cell_type": "code",
   "execution_count": 38,
   "id": "5252975a-0ae4-408d-bb43-8ce9b15d4d83",
   "metadata": {},
   "outputs": [],
   "source": [
    "if True:\n",
    "    print(\"equal\")"
   ]
  },
  {
   "cell_type": "code",
   "execution_count": 42,
   "id": "447e65d8-9b94-4b76-87cc-d2df5fc658e4",
   "metadata": {},
   "outputs": [
    {
     "name": "stdout",
     "output_type": "stream",
     "text": [
      "What do you think the answer to your question is now?\n"
     ]
    }
   ],
   "source": [
    "if 2 == 2 and 54 < 900:\n",
    "    print(\"What do you think the answer to your question is now?\")"
   ]
  },
  {
   "cell_type": "code",
   "execution_count": 47,
   "id": "0f5b870d-bc91-4cba-b884-f3252a55d1c8",
   "metadata": {},
   "outputs": [
    {
     "name": "stdout",
     "output_type": "stream",
     "text": [
      "Hello World\n"
     ]
    }
   ],
   "source": [
    "password = \"Jessica\"\n",
    "\n",
    "# What is the password\n",
    "response = \"Jessica\"\n",
    "\n",
    "if response == password:\n",
    "    print(\"Hello World\")\n",
    "elif response == \"\":\n",
    "    print(\"Please input a password\")\n",
    "else:\n",
    "    print(\"Wrong password, please input password again\")\n",
    "    "
   ]
  },
  {
   "cell_type": "code",
   "execution_count": 64,
   "id": "8906aafd-9cb3-4436-823a-deb77177bdd4",
   "metadata": {},
   "outputs": [
    {
     "data": {
      "text/plain": [
       "['Mango', 'Pineapple', 'Jute', 'Cherry']"
      ]
     },
     "execution_count": 64,
     "metadata": {},
     "output_type": "execute_result"
    }
   ],
   "source": [
    "# Lists\n",
    "fruits = [\"Mango\", \"Pineapple\", \"Jute\", \"Cherry\"]\n",
    "fruits"
   ]
  },
  {
   "cell_type": "code",
   "execution_count": 65,
   "id": "c5ae2e96-28b0-4e56-877c-10ddef21abe1",
   "metadata": {},
   "outputs": [
    {
     "data": {
      "text/plain": [
       "'Mango'"
      ]
     },
     "execution_count": 65,
     "metadata": {},
     "output_type": "execute_result"
    }
   ],
   "source": [
    "fruits[0]"
   ]
  },
  {
   "cell_type": "code",
   "execution_count": 66,
   "id": "86e1a212-66d6-496a-bf8b-a1c9e5b24e8e",
   "metadata": {},
   "outputs": [
    {
     "data": {
      "text/plain": [
       "'Cherry'"
      ]
     },
     "execution_count": 66,
     "metadata": {},
     "output_type": "execute_result"
    }
   ],
   "source": [
    "fruits[3]"
   ]
  },
  {
   "cell_type": "code",
   "execution_count": 67,
   "id": "ff5cebfe-cd1c-45ab-ae0d-6ced6e8528f3",
   "metadata": {},
   "outputs": [
    {
     "data": {
      "text/plain": [
       "'Jute'"
      ]
     },
     "execution_count": 67,
     "metadata": {},
     "output_type": "execute_result"
    }
   ],
   "source": [
    "fruits[2]"
   ]
  },
  {
   "cell_type": "code",
   "execution_count": 68,
   "id": "d697d778-0716-4657-a98e-ee1b596eb606",
   "metadata": {},
   "outputs": [],
   "source": [
    "fruits[2] = \"Banana\""
   ]
  },
  {
   "cell_type": "code",
   "execution_count": 69,
   "id": "60f4234c-3a6c-479d-8927-3b4bbe79575a",
   "metadata": {},
   "outputs": [
    {
     "data": {
      "text/plain": [
       "['Mango', 'Pineapple', 'Banana', 'Cherry']"
      ]
     },
     "execution_count": 69,
     "metadata": {},
     "output_type": "execute_result"
    }
   ],
   "source": [
    "fruits"
   ]
  },
  {
   "cell_type": "code",
   "execution_count": 70,
   "id": "e3dafab1-9c2f-428e-be9e-b89b42494386",
   "metadata": {},
   "outputs": [
    {
     "data": {
      "text/plain": [
       "'Banana'"
      ]
     },
     "execution_count": 70,
     "metadata": {},
     "output_type": "execute_result"
    }
   ],
   "source": [
    "fruits[2]"
   ]
  },
  {
   "cell_type": "code",
   "execution_count": 72,
   "id": "9fddf913-c29f-4cbb-b257-0d601fe536fe",
   "metadata": {},
   "outputs": [],
   "source": [
    "# tuples unlikw lists are immutable i.e can not be changed\n",
    "fruits = (\"Mango\", \"Pineapple\", \"Jute\", \"Cherry\")\n"
   ]
  },
  {
   "cell_type": "code",
   "execution_count": 73,
   "id": "050aee3a-594b-487d-9df3-b67eb1f5e370",
   "metadata": {},
   "outputs": [
    {
     "data": {
      "text/plain": [
       "('Mango', 'Pineapple', 'Jute', 'Cherry')"
      ]
     },
     "execution_count": 73,
     "metadata": {},
     "output_type": "execute_result"
    }
   ],
   "source": [
    "fruits"
   ]
  },
  {
   "cell_type": "code",
   "execution_count": 74,
   "id": "88e6df69-ca45-43b3-83a6-ef60ae837762",
   "metadata": {},
   "outputs": [
    {
     "data": {
      "text/plain": [
       "'Mango'"
      ]
     },
     "execution_count": 74,
     "metadata": {},
     "output_type": "execute_result"
    }
   ],
   "source": [
    "fruits[0]"
   ]
  },
  {
   "cell_type": "code",
   "execution_count": 75,
   "id": "c2ba080d-1ca8-496c-a8b1-a516e8b0c2d0",
   "metadata": {},
   "outputs": [
    {
     "ename": "TypeError",
     "evalue": "'tuple' object does not support item assignment",
     "output_type": "error",
     "traceback": [
      "\u001b[1;31m---------------------------------------------------------------------------\u001b[0m",
      "\u001b[1;31mTypeError\u001b[0m                                 Traceback (most recent call last)",
      "Cell \u001b[1;32mIn[75], line 1\u001b[0m\n\u001b[1;32m----> 1\u001b[0m \u001b[43mfruits\u001b[49m\u001b[43m[\u001b[49m\u001b[38;5;241;43m2\u001b[39;49m\u001b[43m]\u001b[49m \u001b[38;5;241m=\u001b[39m \u001b[38;5;124m\"\u001b[39m\u001b[38;5;124mBanana\u001b[39m\u001b[38;5;124m\"\u001b[39m\n",
      "\u001b[1;31mTypeError\u001b[0m: 'tuple' object does not support item assignment"
     ]
    }
   ],
   "source": [
    "fruits[2] = \"Banana\""
   ]
  },
  {
   "cell_type": "code",
   "execution_count": 81,
   "id": "6ada46dd-f5a4-42a9-950b-e4f37812bd3d",
   "metadata": {},
   "outputs": [
    {
     "data": {
      "text/plain": [
       "{0, 1, 2, 3, 4, 6, 8, 9, 47, 354, 673}"
      ]
     },
     "execution_count": 81,
     "metadata": {},
     "output_type": "execute_result"
    }
   ],
   "source": [
    "# Sets allows no repetition\n",
    "numbers = {1,2,4,6,8,8,6,8,9,00,0,354,673,6,47,3}\n",
    "numbers"
   ]
  },
  {
   "cell_type": "code",
   "execution_count": 84,
   "id": "f6318551-1c3e-40c9-bec8-c2cbb3aba947",
   "metadata": {},
   "outputs": [],
   "source": [
    "# Assignments\n",
    "# Create a dictionary just like we have done for the list, tuple, and set. How do we index into a dictionary? \n",
    "# How is a dictionary unique"
   ]
  },
  {
   "cell_type": "code",
   "execution_count": 85,
   "id": "987d4263-d242-49c5-a4bd-c077b9554b4a",
   "metadata": {},
   "outputs": [],
   "source": [
    "# How can we reassign all the values of a list at ones reather than one by one as we did above. Clue: use loops"
   ]
  },
  {
   "cell_type": "code",
   "execution_count": null,
   "id": "8840090d-5826-443f-824d-29bec2e5e005",
   "metadata": {},
   "outputs": [],
   "source": []
  }
 ],
 "metadata": {
  "kernelspec": {
   "display_name": "Python 3 (ipykernel)",
   "language": "python",
   "name": "python3"
  },
  "language_info": {
   "codemirror_mode": {
    "name": "ipython",
    "version": 3
   },
   "file_extension": ".py",
   "mimetype": "text/x-python",
   "name": "python",
   "nbconvert_exporter": "python",
   "pygments_lexer": "ipython3",
   "version": "3.12.2"
  }
 },
 "nbformat": 4,
 "nbformat_minor": 5
}
