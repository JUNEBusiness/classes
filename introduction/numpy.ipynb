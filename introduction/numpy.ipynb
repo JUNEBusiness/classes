{
 "cells": [
  {
   "cell_type": "code",
   "execution_count": 1,
   "id": "e7610174-27ee-4d8e-b10c-c372055c9300",
   "metadata": {},
   "outputs": [
    {
     "name": "stdout",
     "output_type": "stream",
     "text": [
      "Requirement already satisfied: numpy in c:\\users\\user\\appdata\\local\\programs\\python\\python312\\lib\\site-packages (1.26.4)\n",
      "Note: you may need to restart the kernel to use updated packages.\n"
     ]
    },
    {
     "name": "stderr",
     "output_type": "stream",
     "text": [
      "\n",
      "[notice] A new release of pip is available: 25.1 -> 25.1.1\n",
      "[notice] To update, run: python.exe -m pip install --upgrade pip\n"
     ]
    }
   ],
   "source": [
    "pip install numpy"
   ]
  },
  {
   "cell_type": "code",
   "execution_count": 2,
   "id": "98f88312-7f1e-49c9-9405-800d7b5e0a46",
   "metadata": {},
   "outputs": [],
   "source": [
    "import numpy as np"
   ]
  },
  {
   "cell_type": "markdown",
   "id": "0b2b9e57-b2ac-43e4-904f-e4327366ca5e",
   "metadata": {},
   "source": [
    "### After installing and importing numpy, let us get to work\n",
    "**Note:** You can install and import in the same line."
   ]
  },
  {
   "cell_type": "code",
   "execution_count": 4,
   "id": "51436115-a4aa-4604-ab04-6a852073da4c",
   "metadata": {},
   "outputs": [
    {
     "data": {
      "text/plain": [
       "array(['Mango', 'Orange', 'Apple'], dtype='<U6')"
      ]
     },
     "execution_count": 4,
     "metadata": {},
     "output_type": "execute_result"
    }
   ],
   "source": [
    "fruits = [\"Mango\", \"Orange\", \"Apple\"]\n",
    "np.array(fruits)"
   ]
  },
  {
   "cell_type": "code",
   "execution_count": 5,
   "id": "4130eef0-819a-4f94-b806-43f26035343f",
   "metadata": {},
   "outputs": [
    {
     "data": {
      "text/plain": [
       "['Mango', 'Orange', 'Apple']"
      ]
     },
     "execution_count": 5,
     "metadata": {},
     "output_type": "execute_result"
    }
   ],
   "source": [
    "fruits"
   ]
  },
  {
   "cell_type": "code",
   "execution_count": 8,
   "id": "a98e0cb6-0331-4fc2-9549-81dd9bfd0e2c",
   "metadata": {},
   "outputs": [
    {
     "data": {
      "text/plain": [
       "array([[1., 1.],\n",
       "       [1., 1.],\n",
       "       [1., 1.],\n",
       "       [1., 1.],\n",
       "       [1., 1.],\n",
       "       [1., 1.],\n",
       "       [1., 1.],\n",
       "       [1., 1.],\n",
       "       [1., 1.],\n",
       "       [1., 1.]])"
      ]
     },
     "execution_count": 8,
     "metadata": {},
     "output_type": "execute_result"
    }
   ],
   "source": [
    "np.ones((10,2))"
   ]
  },
  {
   "cell_type": "code",
   "execution_count": 12,
   "id": "8503883a-c2ff-475c-9c06-a2dbc13a6fb2",
   "metadata": {},
   "outputs": [
    {
     "data": {
      "text/plain": [
       "[[1, 2, 3], [4, 5, 6], [7, 8, 9]]"
      ]
     },
     "execution_count": 12,
     "metadata": {},
     "output_type": "execute_result"
    }
   ],
   "source": [
    "my_list = [[1,2,3], [4,5,6],[7,8,9]]\n",
    "my_list"
   ]
  },
  {
   "cell_type": "code",
   "execution_count": 14,
   "id": "b11ed736-0a48-42aa-832a-be150c609e2b",
   "metadata": {},
   "outputs": [
    {
     "data": {
      "text/plain": [
       "array([[1, 2, 3],\n",
       "       [4, 5, 6],\n",
       "       [7, 8, 9]])"
      ]
     },
     "execution_count": 14,
     "metadata": {},
     "output_type": "execute_result"
    }
   ],
   "source": [
    "np.array(my_list)"
   ]
  },
  {
   "cell_type": "code",
   "execution_count": 15,
   "id": "c154d5fd-e36a-4c03-bb06-aa0e31a653e3",
   "metadata": {},
   "outputs": [
    {
     "data": {
      "text/plain": [
       "array([[1., 0., 0., 0., 0.],\n",
       "       [0., 1., 0., 0., 0.],\n",
       "       [0., 0., 1., 0., 0.],\n",
       "       [0., 0., 0., 1., 0.],\n",
       "       [0., 0., 0., 0., 1.]])"
      ]
     },
     "execution_count": 15,
     "metadata": {},
     "output_type": "execute_result"
    }
   ],
   "source": [
    "np.eye(5)"
   ]
  },
  {
   "cell_type": "code",
   "execution_count": 16,
   "id": "7f118510-3022-4051-9125-a1ec328f22eb",
   "metadata": {},
   "outputs": [
    {
     "data": {
      "text/plain": [
       "array([0., 0., 0., 0., 0., 0.])"
      ]
     },
     "execution_count": 16,
     "metadata": {},
     "output_type": "execute_result"
    }
   ],
   "source": [
    "np.zeros(6)"
   ]
  },
  {
   "cell_type": "code",
   "execution_count": 18,
   "id": "d7e9a4dc-ef92-4e73-8e33-3308a66d9be5",
   "metadata": {},
   "outputs": [
    {
     "data": {
      "text/plain": [
       "array([1, 3, 5])"
      ]
     },
     "execution_count": 18,
     "metadata": {},
     "output_type": "execute_result"
    }
   ],
   "source": [
    "np.arange(1,6,2)"
   ]
  },
  {
   "cell_type": "code",
   "execution_count": 20,
   "id": "28d83fc7-3cfe-4478-9f77-8d12b3c7d4a8",
   "metadata": {},
   "outputs": [
    {
     "ename": "TypeError",
     "evalue": "'tuple' object cannot be interpreted as an integer",
     "output_type": "error",
     "traceback": [
      "\u001b[1;31m---------------------------------------------------------------------------\u001b[0m",
      "\u001b[1;31mTypeError\u001b[0m                                 Traceback (most recent call last)",
      "Cell \u001b[1;32mIn[20], line 1\u001b[0m\n\u001b[1;32m----> 1\u001b[0m \u001b[43mnp\u001b[49m\u001b[38;5;241;43m.\u001b[39;49m\u001b[43mrandom\u001b[49m\u001b[38;5;241;43m.\u001b[39;49m\u001b[43mrand\u001b[49m\u001b[43m(\u001b[49m\u001b[43m(\u001b[49m\u001b[38;5;241;43m5\u001b[39;49m\u001b[43m,\u001b[49m\u001b[38;5;241;43m5\u001b[39;49m\u001b[43m)\u001b[49m\u001b[43m)\u001b[49m\n",
      "File \u001b[1;32mnumpy\\\\random\\\\mtrand.pyx:1219\u001b[0m, in \u001b[0;36mnumpy.random.mtrand.RandomState.rand\u001b[1;34m()\u001b[0m\n",
      "File \u001b[1;32mnumpy\\\\random\\\\mtrand.pyx:437\u001b[0m, in \u001b[0;36mnumpy.random.mtrand.RandomState.random_sample\u001b[1;34m()\u001b[0m\n",
      "File \u001b[1;32m_common.pyx:307\u001b[0m, in \u001b[0;36mnumpy.random._common.double_fill\u001b[1;34m()\u001b[0m\n",
      "\u001b[1;31mTypeError\u001b[0m: 'tuple' object cannot be interpreted as an integer"
     ]
    }
   ],
   "source": [
    "np.random.rand((5,5))"
   ]
  },
  {
   "cell_type": "code",
   "execution_count": 38,
   "id": "e7571517-2c18-4468-a78d-71b81990e8ba",
   "metadata": {},
   "outputs": [
    {
     "data": {
      "text/plain": [
       "array([0.20153542, 0.55632007, 0.356951  , 0.89244501, 0.32852504,\n",
       "       0.47628789, 0.95754615, 0.42026889, 0.63965118, 0.89337347,\n",
       "       0.73416826, 0.53216411, 0.68031162, 0.48188519, 0.5368353 ,\n",
       "       0.66948988, 0.7200198 , 0.76954653, 0.03568723, 0.30200552,\n",
       "       0.33830342, 0.89880188, 0.32559567, 0.02361551, 0.95553283,\n",
       "       0.18957987, 0.20282819, 0.39704942, 0.45223117, 0.42532519])"
      ]
     },
     "execution_count": 38,
     "metadata": {},
     "output_type": "execute_result"
    }
   ],
   "source": [
    "rand_num = np.random.rand(30)\n",
    "rand_num"
   ]
  },
  {
   "cell_type": "code",
   "execution_count": 39,
   "id": "2b34150c-b0a3-49cf-b1a2-5fe94bf818e1",
   "metadata": {},
   "outputs": [
    {
     "data": {
      "text/plain": [
       "(30,)"
      ]
     },
     "execution_count": 39,
     "metadata": {},
     "output_type": "execute_result"
    }
   ],
   "source": [
    "rand_num.shape"
   ]
  },
  {
   "cell_type": "code",
   "execution_count": 42,
   "id": "87fdd3c5-2ab7-4503-9afa-bb6b5b45334f",
   "metadata": {},
   "outputs": [
    {
     "data": {
      "text/plain": [
       "array([[0.20153542, 0.55632007, 0.356951  , 0.89244501, 0.32852504],\n",
       "       [0.47628789, 0.95754615, 0.42026889, 0.63965118, 0.89337347],\n",
       "       [0.73416826, 0.53216411, 0.68031162, 0.48188519, 0.5368353 ],\n",
       "       [0.66948988, 0.7200198 , 0.76954653, 0.03568723, 0.30200552],\n",
       "       [0.33830342, 0.89880188, 0.32559567, 0.02361551, 0.95553283],\n",
       "       [0.18957987, 0.20282819, 0.39704942, 0.45223117, 0.42532519]])"
      ]
     },
     "execution_count": 42,
     "metadata": {},
     "output_type": "execute_result"
    }
   ],
   "source": [
    "rand_num_1 = rand_num.reshape(6,5)\n",
    "rand_num_1"
   ]
  },
  {
   "cell_type": "code",
   "execution_count": 43,
   "id": "bbda0053-172b-41ed-a310-9211059a11eb",
   "metadata": {},
   "outputs": [
    {
     "data": {
      "text/plain": [
       "(6, 5)"
      ]
     },
     "execution_count": 43,
     "metadata": {},
     "output_type": "execute_result"
    }
   ],
   "source": [
    "rand_num_1.shape"
   ]
  },
  {
   "cell_type": "code",
   "execution_count": null,
   "id": "4a2a61cd-a53d-4672-bef8-7fd1550897c8",
   "metadata": {},
   "outputs": [],
   "source": []
  }
 ],
 "metadata": {
  "kernelspec": {
   "display_name": "Python 3 (ipykernel)",
   "language": "python",
   "name": "python3"
  },
  "language_info": {
   "codemirror_mode": {
    "name": "ipython",
    "version": 3
   },
   "file_extension": ".py",
   "mimetype": "text/x-python",
   "name": "python",
   "nbconvert_exporter": "python",
   "pygments_lexer": "ipython3",
   "version": "3.12.2"
  }
 },
 "nbformat": 4,
 "nbformat_minor": 5
}
